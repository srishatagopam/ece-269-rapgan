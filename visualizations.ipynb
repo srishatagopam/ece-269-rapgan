{
  "nbformat": 4,
  "nbformat_minor": 0,
  "metadata": {
    "colab": {
      "name": "visualizations",
      "provenance": [],
      "collapsed_sections": [],
      "machine_shape": "hm"
    },
    "kernelspec": {
      "name": "python3",
      "display_name": "Python 3"
    },
    "language_info": {
      "name": "python"
    },
    "accelerator": "GPU"
  },
  "cells": [
    {
      "cell_type": "code",
      "execution_count": 1,
      "metadata": {
        "id": "BT3_Lj30gw8v"
      },
      "outputs": [],
      "source": [
        "import torch\n",
        "import numpy as np\n",
        "import pandas as pd\n",
        "import random\n",
        "import torch.nn.functional as F\n",
        "import matplotlib.pyplot as plt\n",
        "\n",
        "from torch.utils.data import Dataset, DataLoader\n",
        "from torch import nn, optim\n",
        "from string import punctuation\n",
        "from collections import defaultdict\n",
        "from time import time"
      ]
    },
    {
      "cell_type": "code",
      "source": [
        "def remove_punct(verse):\n",
        "  verse = verse.translate(str.maketrans('','', punctuation))\n",
        "  verse = verse.lower()\n",
        "  return verse"
      ],
      "metadata": {
        "id": "teefBPbL2WcO"
      },
      "execution_count": 2,
      "outputs": []
    },
    {
      "cell_type": "code",
      "source": [
        "train_df = pd.read_csv('train.csv')\n",
        "train_df.lyric = train_df.lyric.apply(lambda x: remove_punct(x))\n",
        "\n",
        "test_df = pd.read_csv('test.csv')\n",
        "test_df.lyric = test_df.lyric.apply(lambda x: remove_punct(x))"
      ],
      "metadata": {
        "id": "A3fLvux-2O04"
      },
      "execution_count": 3,
      "outputs": []
    },
    {
      "cell_type": "code",
      "source": [
        "train_df"
      ],
      "metadata": {
        "colab": {
          "base_uri": "https://localhost:8080/",
          "height": 424
        },
        "id": "NffsN0UB_joT",
        "outputId": "828cc5b8-281d-4449-ee1a-f67fa0460edd"
      },
      "execution_count": 4,
      "outputs": [
        {
          "output_type": "execute_result",
          "data": {
            "text/plain": [
              "       Unnamed: 0          artist                                song  \\\n",
              "0               0          Future                         Osama (O’s)   \n",
              "1               1          Future                               Coupe   \n",
              "2               2          Future               Substitute Everything   \n",
              "3               3          Future                         Straight Up   \n",
              "4               4          Future  Never Satisfied (Original Version)   \n",
              "...           ...             ...                                 ...   \n",
              "48055       48055  Kendrick Lamar                          King Kunta   \n",
              "48056       48056  Kendrick Lamar                              Waitin   \n",
              "48057       48057  Kendrick Lamar                        Compton Life   \n",
              "48058       48058  Kendrick Lamar          Poe Mans Dreams (His Vice)   \n",
              "48059       48059  Kendrick Lamar                                 S.L   \n",
              "\n",
              "                                                   lyric  \n",
              "0                        i ride with dope like its legal  \n",
              "1                                    this my environment  \n",
              "2                         im tryna substitute everything  \n",
              "3      throw some red bottoms jimmy choos be all you ...  \n",
              "4               aint no pressure on the money lord knows  \n",
              "...                                                  ...  \n",
              "48055                        oh yes we can oh yes we can  \n",
              "48056  catch him at the lights to turn off his lights...  \n",
              "48057                                 lets bring it back  \n",
              "48058   be on my last dollar and split the bill with you  \n",
              "48059  killed my homie  seen his mother cry now i’m t...  \n",
              "\n",
              "[48060 rows x 4 columns]"
            ],
            "text/html": [
              "\n",
              "  <div id=\"df-5bb6f728-5785-4f9b-9495-b2aff25103a8\">\n",
              "    <div class=\"colab-df-container\">\n",
              "      <div>\n",
              "<style scoped>\n",
              "    .dataframe tbody tr th:only-of-type {\n",
              "        vertical-align: middle;\n",
              "    }\n",
              "\n",
              "    .dataframe tbody tr th {\n",
              "        vertical-align: top;\n",
              "    }\n",
              "\n",
              "    .dataframe thead th {\n",
              "        text-align: right;\n",
              "    }\n",
              "</style>\n",
              "<table border=\"1\" class=\"dataframe\">\n",
              "  <thead>\n",
              "    <tr style=\"text-align: right;\">\n",
              "      <th></th>\n",
              "      <th>Unnamed: 0</th>\n",
              "      <th>artist</th>\n",
              "      <th>song</th>\n",
              "      <th>lyric</th>\n",
              "    </tr>\n",
              "  </thead>\n",
              "  <tbody>\n",
              "    <tr>\n",
              "      <th>0</th>\n",
              "      <td>0</td>\n",
              "      <td>Future</td>\n",
              "      <td>Osama (O’s)</td>\n",
              "      <td>i ride with dope like its legal</td>\n",
              "    </tr>\n",
              "    <tr>\n",
              "      <th>1</th>\n",
              "      <td>1</td>\n",
              "      <td>Future</td>\n",
              "      <td>Coupe</td>\n",
              "      <td>this my environment</td>\n",
              "    </tr>\n",
              "    <tr>\n",
              "      <th>2</th>\n",
              "      <td>2</td>\n",
              "      <td>Future</td>\n",
              "      <td>Substitute Everything</td>\n",
              "      <td>im tryna substitute everything</td>\n",
              "    </tr>\n",
              "    <tr>\n",
              "      <th>3</th>\n",
              "      <td>3</td>\n",
              "      <td>Future</td>\n",
              "      <td>Straight Up</td>\n",
              "      <td>throw some red bottoms jimmy choos be all you ...</td>\n",
              "    </tr>\n",
              "    <tr>\n",
              "      <th>4</th>\n",
              "      <td>4</td>\n",
              "      <td>Future</td>\n",
              "      <td>Never Satisfied (Original Version)</td>\n",
              "      <td>aint no pressure on the money lord knows</td>\n",
              "    </tr>\n",
              "    <tr>\n",
              "      <th>...</th>\n",
              "      <td>...</td>\n",
              "      <td>...</td>\n",
              "      <td>...</td>\n",
              "      <td>...</td>\n",
              "    </tr>\n",
              "    <tr>\n",
              "      <th>48055</th>\n",
              "      <td>48055</td>\n",
              "      <td>Kendrick Lamar</td>\n",
              "      <td>King Kunta</td>\n",
              "      <td>oh yes we can oh yes we can</td>\n",
              "    </tr>\n",
              "    <tr>\n",
              "      <th>48056</th>\n",
              "      <td>48056</td>\n",
              "      <td>Kendrick Lamar</td>\n",
              "      <td>Waitin</td>\n",
              "      <td>catch him at the lights to turn off his lights...</td>\n",
              "    </tr>\n",
              "    <tr>\n",
              "      <th>48057</th>\n",
              "      <td>48057</td>\n",
              "      <td>Kendrick Lamar</td>\n",
              "      <td>Compton Life</td>\n",
              "      <td>lets bring it back</td>\n",
              "    </tr>\n",
              "    <tr>\n",
              "      <th>48058</th>\n",
              "      <td>48058</td>\n",
              "      <td>Kendrick Lamar</td>\n",
              "      <td>Poe Mans Dreams (His Vice)</td>\n",
              "      <td>be on my last dollar and split the bill with you</td>\n",
              "    </tr>\n",
              "    <tr>\n",
              "      <th>48059</th>\n",
              "      <td>48059</td>\n",
              "      <td>Kendrick Lamar</td>\n",
              "      <td>S.L</td>\n",
              "      <td>killed my homie  seen his mother cry now i’m t...</td>\n",
              "    </tr>\n",
              "  </tbody>\n",
              "</table>\n",
              "<p>48060 rows × 4 columns</p>\n",
              "</div>\n",
              "      <button class=\"colab-df-convert\" onclick=\"convertToInteractive('df-5bb6f728-5785-4f9b-9495-b2aff25103a8')\"\n",
              "              title=\"Convert this dataframe to an interactive table.\"\n",
              "              style=\"display:none;\">\n",
              "        \n",
              "  <svg xmlns=\"http://www.w3.org/2000/svg\" height=\"24px\"viewBox=\"0 0 24 24\"\n",
              "       width=\"24px\">\n",
              "    <path d=\"M0 0h24v24H0V0z\" fill=\"none\"/>\n",
              "    <path d=\"M18.56 5.44l.94 2.06.94-2.06 2.06-.94-2.06-.94-.94-2.06-.94 2.06-2.06.94zm-11 1L8.5 8.5l.94-2.06 2.06-.94-2.06-.94L8.5 2.5l-.94 2.06-2.06.94zm10 10l.94 2.06.94-2.06 2.06-.94-2.06-.94-.94-2.06-.94 2.06-2.06.94z\"/><path d=\"M17.41 7.96l-1.37-1.37c-.4-.4-.92-.59-1.43-.59-.52 0-1.04.2-1.43.59L10.3 9.45l-7.72 7.72c-.78.78-.78 2.05 0 2.83L4 21.41c.39.39.9.59 1.41.59.51 0 1.02-.2 1.41-.59l7.78-7.78 2.81-2.81c.8-.78.8-2.07 0-2.86zM5.41 20L4 18.59l7.72-7.72 1.47 1.35L5.41 20z\"/>\n",
              "  </svg>\n",
              "      </button>\n",
              "      \n",
              "  <style>\n",
              "    .colab-df-container {\n",
              "      display:flex;\n",
              "      flex-wrap:wrap;\n",
              "      gap: 12px;\n",
              "    }\n",
              "\n",
              "    .colab-df-convert {\n",
              "      background-color: #E8F0FE;\n",
              "      border: none;\n",
              "      border-radius: 50%;\n",
              "      cursor: pointer;\n",
              "      display: none;\n",
              "      fill: #1967D2;\n",
              "      height: 32px;\n",
              "      padding: 0 0 0 0;\n",
              "      width: 32px;\n",
              "    }\n",
              "\n",
              "    .colab-df-convert:hover {\n",
              "      background-color: #E2EBFA;\n",
              "      box-shadow: 0px 1px 2px rgba(60, 64, 67, 0.3), 0px 1px 3px 1px rgba(60, 64, 67, 0.15);\n",
              "      fill: #174EA6;\n",
              "    }\n",
              "\n",
              "    [theme=dark] .colab-df-convert {\n",
              "      background-color: #3B4455;\n",
              "      fill: #D2E3FC;\n",
              "    }\n",
              "\n",
              "    [theme=dark] .colab-df-convert:hover {\n",
              "      background-color: #434B5C;\n",
              "      box-shadow: 0px 1px 3px 1px rgba(0, 0, 0, 0.15);\n",
              "      filter: drop-shadow(0px 1px 2px rgba(0, 0, 0, 0.3));\n",
              "      fill: #FFFFFF;\n",
              "    }\n",
              "  </style>\n",
              "\n",
              "      <script>\n",
              "        const buttonEl =\n",
              "          document.querySelector('#df-5bb6f728-5785-4f9b-9495-b2aff25103a8 button.colab-df-convert');\n",
              "        buttonEl.style.display =\n",
              "          google.colab.kernel.accessAllowed ? 'block' : 'none';\n",
              "\n",
              "        async function convertToInteractive(key) {\n",
              "          const element = document.querySelector('#df-5bb6f728-5785-4f9b-9495-b2aff25103a8');\n",
              "          const dataTable =\n",
              "            await google.colab.kernel.invokeFunction('convertToInteractive',\n",
              "                                                     [key], {});\n",
              "          if (!dataTable) return;\n",
              "\n",
              "          const docLinkHtml = 'Like what you see? Visit the ' +\n",
              "            '<a target=\"_blank\" href=https://colab.research.google.com/notebooks/data_table.ipynb>data table notebook</a>'\n",
              "            + ' to learn more about interactive tables.';\n",
              "          element.innerHTML = '';\n",
              "          dataTable['output_type'] = 'display_data';\n",
              "          await google.colab.output.renderOutput(dataTable, element);\n",
              "          const docLink = document.createElement('div');\n",
              "          docLink.innerHTML = docLinkHtml;\n",
              "          element.appendChild(docLink);\n",
              "        }\n",
              "      </script>\n",
              "    </div>\n",
              "  </div>\n",
              "  "
            ]
          },
          "metadata": {},
          "execution_count": 4
        }
      ]
    },
    {
      "cell_type": "code",
      "source": [
        "test_df"
      ],
      "metadata": {
        "colab": {
          "base_uri": "https://localhost:8080/",
          "height": 424
        },
        "id": "mtxIR_aV_mZw",
        "outputId": "e70d2e88-9a4e-4d52-a33a-d79d0667d8f1"
      },
      "execution_count": 5,
      "outputs": [
        {
          "output_type": "execute_result",
          "data": {
            "text/plain": [
              "       Unnamed: 0          artist                                   song  \\\n",
              "0               0          Future                                     My   \n",
              "1               1          Future                           Good Morning   \n",
              "2               2          Future                             Turn on Me   \n",
              "3               3          Future                         You Deserve It   \n",
              "4               4          Future                         Secure the Bag   \n",
              "...           ...             ...                                    ...   \n",
              "12008       12008  Kendrick Lamar            Blow My High (Members Only)   \n",
              "12009       12009  Kendrick Lamar  Freestyle vs Fan (On Rigamortis Beat)   \n",
              "12010       12010  Kendrick Lamar                            These Walls   \n",
              "12011       12011  Kendrick Lamar                         Poetic Justice   \n",
              "12012       12012  Kendrick Lamar                ​untitled 07 | levitate   \n",
              "\n",
              "                                                   lyric  \n",
              "0                                 already don ordered it  \n",
              "1      every time i see her i swear we get deeper and...  \n",
              "2      with this dope in my system i know you gon tur...  \n",
              "3                                         you deserve it  \n",
              "4         first time i seen it online went and copped it  \n",
              "...                                                  ...  \n",
              "12008                  look at my life and look at yours  \n",
              "12009  thats that scream that every other clapper scared  \n",
              "12010  i remember you was conflicted misusing your in...  \n",
              "12011                      you can get it you can get it  \n",
              "12012                levitate levitate levitate levitate  \n",
              "\n",
              "[12013 rows x 4 columns]"
            ],
            "text/html": [
              "\n",
              "  <div id=\"df-b6dc88d5-c7a5-4687-80c1-ec6ea2e3cffc\">\n",
              "    <div class=\"colab-df-container\">\n",
              "      <div>\n",
              "<style scoped>\n",
              "    .dataframe tbody tr th:only-of-type {\n",
              "        vertical-align: middle;\n",
              "    }\n",
              "\n",
              "    .dataframe tbody tr th {\n",
              "        vertical-align: top;\n",
              "    }\n",
              "\n",
              "    .dataframe thead th {\n",
              "        text-align: right;\n",
              "    }\n",
              "</style>\n",
              "<table border=\"1\" class=\"dataframe\">\n",
              "  <thead>\n",
              "    <tr style=\"text-align: right;\">\n",
              "      <th></th>\n",
              "      <th>Unnamed: 0</th>\n",
              "      <th>artist</th>\n",
              "      <th>song</th>\n",
              "      <th>lyric</th>\n",
              "    </tr>\n",
              "  </thead>\n",
              "  <tbody>\n",
              "    <tr>\n",
              "      <th>0</th>\n",
              "      <td>0</td>\n",
              "      <td>Future</td>\n",
              "      <td>My</td>\n",
              "      <td>already don ordered it</td>\n",
              "    </tr>\n",
              "    <tr>\n",
              "      <th>1</th>\n",
              "      <td>1</td>\n",
              "      <td>Future</td>\n",
              "      <td>Good Morning</td>\n",
              "      <td>every time i see her i swear we get deeper and...</td>\n",
              "    </tr>\n",
              "    <tr>\n",
              "      <th>2</th>\n",
              "      <td>2</td>\n",
              "      <td>Future</td>\n",
              "      <td>Turn on Me</td>\n",
              "      <td>with this dope in my system i know you gon tur...</td>\n",
              "    </tr>\n",
              "    <tr>\n",
              "      <th>3</th>\n",
              "      <td>3</td>\n",
              "      <td>Future</td>\n",
              "      <td>You Deserve It</td>\n",
              "      <td>you deserve it</td>\n",
              "    </tr>\n",
              "    <tr>\n",
              "      <th>4</th>\n",
              "      <td>4</td>\n",
              "      <td>Future</td>\n",
              "      <td>Secure the Bag</td>\n",
              "      <td>first time i seen it online went and copped it</td>\n",
              "    </tr>\n",
              "    <tr>\n",
              "      <th>...</th>\n",
              "      <td>...</td>\n",
              "      <td>...</td>\n",
              "      <td>...</td>\n",
              "      <td>...</td>\n",
              "    </tr>\n",
              "    <tr>\n",
              "      <th>12008</th>\n",
              "      <td>12008</td>\n",
              "      <td>Kendrick Lamar</td>\n",
              "      <td>Blow My High (Members Only)</td>\n",
              "      <td>look at my life and look at yours</td>\n",
              "    </tr>\n",
              "    <tr>\n",
              "      <th>12009</th>\n",
              "      <td>12009</td>\n",
              "      <td>Kendrick Lamar</td>\n",
              "      <td>Freestyle vs Fan (On Rigamortis Beat)</td>\n",
              "      <td>thats that scream that every other clapper scared</td>\n",
              "    </tr>\n",
              "    <tr>\n",
              "      <th>12010</th>\n",
              "      <td>12010</td>\n",
              "      <td>Kendrick Lamar</td>\n",
              "      <td>These Walls</td>\n",
              "      <td>i remember you was conflicted misusing your in...</td>\n",
              "    </tr>\n",
              "    <tr>\n",
              "      <th>12011</th>\n",
              "      <td>12011</td>\n",
              "      <td>Kendrick Lamar</td>\n",
              "      <td>Poetic Justice</td>\n",
              "      <td>you can get it you can get it</td>\n",
              "    </tr>\n",
              "    <tr>\n",
              "      <th>12012</th>\n",
              "      <td>12012</td>\n",
              "      <td>Kendrick Lamar</td>\n",
              "      <td>​untitled 07 | levitate</td>\n",
              "      <td>levitate levitate levitate levitate</td>\n",
              "    </tr>\n",
              "  </tbody>\n",
              "</table>\n",
              "<p>12013 rows × 4 columns</p>\n",
              "</div>\n",
              "      <button class=\"colab-df-convert\" onclick=\"convertToInteractive('df-b6dc88d5-c7a5-4687-80c1-ec6ea2e3cffc')\"\n",
              "              title=\"Convert this dataframe to an interactive table.\"\n",
              "              style=\"display:none;\">\n",
              "        \n",
              "  <svg xmlns=\"http://www.w3.org/2000/svg\" height=\"24px\"viewBox=\"0 0 24 24\"\n",
              "       width=\"24px\">\n",
              "    <path d=\"M0 0h24v24H0V0z\" fill=\"none\"/>\n",
              "    <path d=\"M18.56 5.44l.94 2.06.94-2.06 2.06-.94-2.06-.94-.94-2.06-.94 2.06-2.06.94zm-11 1L8.5 8.5l.94-2.06 2.06-.94-2.06-.94L8.5 2.5l-.94 2.06-2.06.94zm10 10l.94 2.06.94-2.06 2.06-.94-2.06-.94-.94-2.06-.94 2.06-2.06.94z\"/><path d=\"M17.41 7.96l-1.37-1.37c-.4-.4-.92-.59-1.43-.59-.52 0-1.04.2-1.43.59L10.3 9.45l-7.72 7.72c-.78.78-.78 2.05 0 2.83L4 21.41c.39.39.9.59 1.41.59.51 0 1.02-.2 1.41-.59l7.78-7.78 2.81-2.81c.8-.78.8-2.07 0-2.86zM5.41 20L4 18.59l7.72-7.72 1.47 1.35L5.41 20z\"/>\n",
              "  </svg>\n",
              "      </button>\n",
              "      \n",
              "  <style>\n",
              "    .colab-df-container {\n",
              "      display:flex;\n",
              "      flex-wrap:wrap;\n",
              "      gap: 12px;\n",
              "    }\n",
              "\n",
              "    .colab-df-convert {\n",
              "      background-color: #E8F0FE;\n",
              "      border: none;\n",
              "      border-radius: 50%;\n",
              "      cursor: pointer;\n",
              "      display: none;\n",
              "      fill: #1967D2;\n",
              "      height: 32px;\n",
              "      padding: 0 0 0 0;\n",
              "      width: 32px;\n",
              "    }\n",
              "\n",
              "    .colab-df-convert:hover {\n",
              "      background-color: #E2EBFA;\n",
              "      box-shadow: 0px 1px 2px rgba(60, 64, 67, 0.3), 0px 1px 3px 1px rgba(60, 64, 67, 0.15);\n",
              "      fill: #174EA6;\n",
              "    }\n",
              "\n",
              "    [theme=dark] .colab-df-convert {\n",
              "      background-color: #3B4455;\n",
              "      fill: #D2E3FC;\n",
              "    }\n",
              "\n",
              "    [theme=dark] .colab-df-convert:hover {\n",
              "      background-color: #434B5C;\n",
              "      box-shadow: 0px 1px 3px 1px rgba(0, 0, 0, 0.15);\n",
              "      filter: drop-shadow(0px 1px 2px rgba(0, 0, 0, 0.3));\n",
              "      fill: #FFFFFF;\n",
              "    }\n",
              "  </style>\n",
              "\n",
              "      <script>\n",
              "        const buttonEl =\n",
              "          document.querySelector('#df-b6dc88d5-c7a5-4687-80c1-ec6ea2e3cffc button.colab-df-convert');\n",
              "        buttonEl.style.display =\n",
              "          google.colab.kernel.accessAllowed ? 'block' : 'none';\n",
              "\n",
              "        async function convertToInteractive(key) {\n",
              "          const element = document.querySelector('#df-b6dc88d5-c7a5-4687-80c1-ec6ea2e3cffc');\n",
              "          const dataTable =\n",
              "            await google.colab.kernel.invokeFunction('convertToInteractive',\n",
              "                                                     [key], {});\n",
              "          if (!dataTable) return;\n",
              "\n",
              "          const docLinkHtml = 'Like what you see? Visit the ' +\n",
              "            '<a target=\"_blank\" href=https://colab.research.google.com/notebooks/data_table.ipynb>data table notebook</a>'\n",
              "            + ' to learn more about interactive tables.';\n",
              "          element.innerHTML = '';\n",
              "          dataTable['output_type'] = 'display_data';\n",
              "          await google.colab.output.renderOutput(dataTable, element);\n",
              "          const docLink = document.createElement('div');\n",
              "          docLink.innerHTML = docLinkHtml;\n",
              "          element.appendChild(docLink);\n",
              "        }\n",
              "      </script>\n",
              "    </div>\n",
              "  </div>\n",
              "  "
            ]
          },
          "metadata": {},
          "execution_count": 5
        }
      ]
    },
    {
      "cell_type": "code",
      "source": [
        "class LyricDataset(Dataset):\n",
        "  def __init__(self, df, cond=None, seq_len=5):\n",
        "    self.data = df.lyric.to_list()\n",
        "    self.category =  list(df.artist.unique())\n",
        "    self.encode_cat = {key:val for val, key in enumerate(self.category)}\n",
        "    self.stoi = {**{'<PAD>':0, '<SOS>':1, '<EOS>':2, '<UNK>':3}, \n",
        "                 **{j:i for i, j in enumerate(set([word for word in ' '.join(self.data).split()]), start=4)}}\n",
        "    self.itos = {**{0:'<PAD>', 1:'<SOS>', 2:'<EOS>', 3:'<UNK>'}, \n",
        "                 **{i:j for i, j in enumerate(set([word for word in ' '.join(self.data).split()]), start=4)}}\n",
        "    self.full_text = ' '.join(self.data)\n",
        "    self.full_idx = [self.stoi[word] for word in self.full_text.split()]\n",
        "    self.seq_len = seq_len \n",
        "    self.cond = cond\n",
        "    self.full_artists = self.artist_list(df)\n",
        "\n",
        "  # Bars are split by seq_len; attach artist to each possible sliding window.\n",
        "  def artist_list(self, df):\n",
        "    artist_list = []\n",
        "    for artist in self.category:\n",
        "      subdf = df[df.artist==artist]\n",
        "      text = ' '.join(subdf.lyric.to_list()).split()\n",
        "      artist_list += [artist]*len(text)\n",
        "    return artist_list\n",
        "\n",
        "  def __len__(self):\n",
        "    return len(self.stoi)\n",
        "\n",
        "  def __getitem__(self, idx):\n",
        "    cat = self.encode_cat[self.full_artists[idx]]\n",
        "    input = torch.tensor(self.full_idx[idx:idx+self.seq_len])\n",
        "    target = torch.tensor(self.full_idx[idx+1:idx+self.seq_len+1])\n",
        "    return cat, input, target"
      ],
      "metadata": {
        "id": "ZUsD78sIHfPU"
      },
      "execution_count": 6,
      "outputs": []
    },
    {
      "cell_type": "code",
      "source": [
        "class GRU_Model(nn.Module):\n",
        "  def __init__(self, dataset, batch_dim=32):\n",
        "    super(GRU_Model, self).__init__()\n",
        "    self.vocab_dim = len(dataset.stoi)\n",
        "    self.seq_len = dataset.seq_len\n",
        "    self.batch_dim = batch_dim\n",
        "\n",
        "    self.emb_layer = nn.Embedding(\n",
        "        num_embeddings=self.vocab_dim,\n",
        "        embedding_dim=128\n",
        "    )\n",
        "    self.gru_layer = nn.GRU(\n",
        "        input_size=128,\n",
        "        hidden_size=128,\n",
        "        num_layers=2,\n",
        "        dropout=0.2\n",
        "    )\n",
        "    self.lin_layer = nn.Linear(\n",
        "        128,\n",
        "        self.vocab_dim\n",
        "    )\n",
        "    self.cond_layer = nn.Linear(\n",
        "    1,\n",
        "    128,\n",
        "    bias=False\n",
        "    )\n",
        "\n",
        "  def forward(self, cat, x, hidden, cond=None):\n",
        "    out = self.emb_layer(x)\n",
        "    cout = self.cond_layer(cat)\n",
        "    if cond=='add':\n",
        "      out = torch.add(out, cout)\n",
        "    elif cond=='mul':\n",
        "      out = torch.mul(out, cout)\n",
        "    out, hid = self.gru_layer(out)\n",
        "    out = self.lin_layer(out)\n",
        "    return out, hid\n",
        "\n",
        "  def init_hidden(self):\n",
        "    return torch.zeros(2, self.batch_dim, 128), torch.zeros(2, self.batch_dim, 128)"
      ],
      "metadata": {
        "id": "f5ayFNZvDl3Z"
      },
      "execution_count": 7,
      "outputs": []
    },
    {
      "cell_type": "code",
      "source": [
        "class LSTM_Model(nn.Module):\n",
        "  def __init__(self, dataset, batch_dim=32):\n",
        "    super(LSTM_Model, self).__init__()\n",
        "    self.vocab_dim = len(dataset.stoi)\n",
        "    self.seq_len = dataset.seq_len\n",
        "    self.batch_dim = batch_dim\n",
        "\n",
        "    self.emb_layer = nn.Embedding(\n",
        "        num_embeddings=self.vocab_dim,\n",
        "        embedding_dim=128\n",
        "    )\n",
        "    self.lstm_layer = nn.LSTM(\n",
        "        input_size=128,\n",
        "        hidden_size=128,\n",
        "        num_layers=2,\n",
        "        dropout=0.2\n",
        "    )\n",
        "    self.lin_layer = nn.Linear(\n",
        "        128,\n",
        "        self.vocab_dim\n",
        "    )\n",
        "\n",
        "    self.cond_layer = nn.Linear(\n",
        "        1,\n",
        "        128,\n",
        "        bias=False\n",
        "    )\n",
        "\n",
        "\n",
        "  def forward(self, cat, x, hidden, cond=None):\n",
        "    out = self.emb_layer(x)\n",
        "    cout = self.cond_layer(cat)\n",
        "    if cond=='add':\n",
        "      out = torch.add(out, cout)\n",
        "    elif cond=='mul':\n",
        "      out = torch.mul(out, cout)\n",
        "    out, hid = self.lstm_layer(out)\n",
        "    out = self.lin_layer(out)\n",
        "    return out, hid\n",
        "\n",
        "  def init_hidden(self):\n",
        "    return torch.zeros(2, self.batch_dim, 128), torch.zeros(2, self.batch_dim, 128)"
      ],
      "metadata": {
        "id": "dFR9NW8QBbSs"
      },
      "execution_count": 8,
      "outputs": []
    },
    {
      "cell_type": "code",
      "source": [
        "def RNN_train(model, dataset, batch_dim=32, lr=1e-3, epochs=15, cond=None):\n",
        "  model.train()\n",
        "  loader = DataLoader(dataset, batch_size=batch_dim)\n",
        "  crit = nn.CrossEntropyLoss()\n",
        "  opt = optim.Adam(model.parameters(), lr=lr)\n",
        "\n",
        "  start = time()\n",
        "  \n",
        "  losses = []\n",
        "  for epoch in range(epochs):\n",
        "    h, c = model.init_hidden()\n",
        "\n",
        "    for batch, (cat, input, target) in enumerate(loader):\n",
        "      val = cat.data[0]\n",
        "      cat_tens = torch.full_like(input, val)\n",
        "      #print(batch, input.shape, cat_tens.shape)\n",
        "      cat_tens = cat_tens.type(torch.FloatTensor)\n",
        "      cat_tens = torch.unsqueeze(cat_tens, 2).to('cuda')\n",
        "      input = input.to('cuda')\n",
        "      target = target.to('cuda')\n",
        "\n",
        "      opt.zero_grad()\n",
        "      pred, (h,c) = model(cat_tens, input, (h, c), cond=cond)\n",
        "      loss = crit(pred.transpose(1,2), target)\n",
        "\n",
        "      loss.backward()\n",
        "      opt.step()\n",
        "    \n",
        "    elapsed = time() - start\n",
        "    losses.append(loss.item())\n",
        "    print(f'epoch: {epoch+1}, loss: {loss.item()}, elapsed: {elapsed:.2f} s')\n",
        "  return losses"
      ],
      "metadata": {
        "id": "yA7v8uA8_rdI"
      },
      "execution_count": 9,
      "outputs": []
    },
    {
      "cell_type": "code",
      "source": [
        "dataset = LyricDataset(train_df)"
      ],
      "metadata": {
        "id": "OWYxytnnWefA"
      },
      "execution_count": 11,
      "outputs": []
    },
    {
      "cell_type": "code",
      "source": [
        "LSTM_model_add = LSTM_Model(dataset)\n",
        "LSTM_model_add.to('cuda')"
      ],
      "metadata": {
        "id": "gmByx3tlDEV9",
        "colab": {
          "base_uri": "https://localhost:8080/"
        },
        "outputId": "05bf4087-17ca-4369-ebd0-a6192d9ab104"
      },
      "execution_count": 55,
      "outputs": [
        {
          "output_type": "execute_result",
          "data": {
            "text/plain": [
              "LSTM_Model(\n",
              "  (emb_layer): Embedding(16783, 128)\n",
              "  (lstm_layer): LSTM(128, 128, num_layers=2, dropout=0.2)\n",
              "  (lin_layer): Linear(in_features=128, out_features=16783, bias=True)\n",
              "  (cond_layer): Linear(in_features=1, out_features=128, bias=False)\n",
              ")"
            ]
          },
          "metadata": {},
          "execution_count": 55
        }
      ]
    },
    {
      "cell_type": "code",
      "source": [
        "LSTM_add_loss = RNN_train(LSTM_model_add, dataset, cond='add', epochs=15)"
      ],
      "metadata": {
        "colab": {
          "base_uri": "https://localhost:8080/"
        },
        "id": "k_daA26JaJ85",
        "outputId": "75651db7-9944-4cd5-b2c3-ede1c4216361"
      },
      "execution_count": 56,
      "outputs": [
        {
          "output_type": "stream",
          "name": "stdout",
          "text": [
            "epoch: 1, loss: 6.397597789764404, elapsed: 3.53 s\n",
            "epoch: 2, loss: 5.960576057434082, elapsed: 7.06 s\n",
            "epoch: 3, loss: 5.596567153930664, elapsed: 10.59 s\n",
            "epoch: 4, loss: 5.302640914916992, elapsed: 14.11 s\n",
            "epoch: 5, loss: 4.886469841003418, elapsed: 17.64 s\n",
            "epoch: 6, loss: 4.5449323654174805, elapsed: 21.17 s\n",
            "epoch: 7, loss: 4.3169050216674805, elapsed: 24.71 s\n",
            "epoch: 8, loss: 4.034762382507324, elapsed: 28.24 s\n",
            "epoch: 9, loss: 3.7045156955718994, elapsed: 31.77 s\n",
            "epoch: 10, loss: 3.4333765506744385, elapsed: 35.30 s\n",
            "epoch: 11, loss: 3.168856382369995, elapsed: 38.83 s\n",
            "epoch: 12, loss: 2.798696756362915, elapsed: 42.36 s\n",
            "epoch: 13, loss: 2.477689266204834, elapsed: 45.89 s\n",
            "epoch: 14, loss: 2.3091673851013184, elapsed: 49.43 s\n",
            "epoch: 15, loss: 2.0638837814331055, elapsed: 53.03 s\n"
          ]
        }
      ]
    },
    {
      "cell_type": "code",
      "source": [
        "LSTM_model_mul = LSTM_Model(dataset)\n",
        "LSTM_model_mul.to('cuda')"
      ],
      "metadata": {
        "colab": {
          "base_uri": "https://localhost:8080/"
        },
        "id": "pQp4y9blRLbi",
        "outputId": "e78a0df1-9723-4011-c442-31c5b751d146"
      },
      "execution_count": 38,
      "outputs": [
        {
          "output_type": "execute_result",
          "data": {
            "text/plain": [
              "LSTM_Model(\n",
              "  (emb_layer): Embedding(16783, 128)\n",
              "  (lstm_layer): LSTM(128, 128, num_layers=2, dropout=0.2)\n",
              "  (lin_layer): Linear(in_features=128, out_features=16783, bias=True)\n",
              "  (cond_layer): Linear(in_features=1, out_features=128, bias=False)\n",
              ")"
            ]
          },
          "metadata": {},
          "execution_count": 38
        }
      ]
    },
    {
      "cell_type": "code",
      "source": [
        "LSTM_mul_loss = RNN_train(LSTM_model_mul, dataset, cond='mul', epochs=15)"
      ],
      "metadata": {
        "colab": {
          "base_uri": "https://localhost:8080/"
        },
        "id": "FQq_axD9anhB",
        "outputId": "52fec729-31e9-491d-e6ec-c95f4a5e5815"
      },
      "execution_count": 39,
      "outputs": [
        {
          "output_type": "stream",
          "name": "stdout",
          "text": [
            "epoch: 1, loss: 6.569474220275879, elapsed: 3.54 s\n",
            "epoch: 2, loss: 6.254977703094482, elapsed: 7.07 s\n",
            "epoch: 3, loss: 6.113901138305664, elapsed: 10.60 s\n",
            "epoch: 4, loss: 6.020262241363525, elapsed: 14.13 s\n",
            "epoch: 5, loss: 5.9142961502075195, elapsed: 17.66 s\n",
            "epoch: 6, loss: 5.787648677825928, elapsed: 21.19 s\n",
            "epoch: 7, loss: 5.8221001625061035, elapsed: 24.73 s\n",
            "epoch: 8, loss: 5.592106342315674, elapsed: 28.26 s\n",
            "epoch: 9, loss: 5.547795295715332, elapsed: 31.79 s\n",
            "epoch: 10, loss: 5.703165054321289, elapsed: 35.33 s\n",
            "epoch: 11, loss: 5.482362270355225, elapsed: 38.86 s\n",
            "epoch: 12, loss: 5.489552021026611, elapsed: 42.39 s\n",
            "epoch: 13, loss: 5.626899242401123, elapsed: 45.92 s\n",
            "epoch: 14, loss: 5.496450424194336, elapsed: 49.58 s\n",
            "epoch: 15, loss: 5.398554801940918, elapsed: 53.11 s\n"
          ]
        }
      ]
    },
    {
      "cell_type": "code",
      "source": [
        "GRU_model_add = GRU_Model(dataset)\n",
        "GRU_model_add.to('cuda')"
      ],
      "metadata": {
        "colab": {
          "base_uri": "https://localhost:8080/"
        },
        "id": "byH8OaJpRRTB",
        "outputId": "140f41a4-f440-40bc-d4c3-076d5bd11948"
      },
      "execution_count": 21,
      "outputs": [
        {
          "output_type": "execute_result",
          "data": {
            "text/plain": [
              "GRU_Model(\n",
              "  (emb_layer): Embedding(16783, 128)\n",
              "  (gru_layer): GRU(128, 128, num_layers=2, dropout=0.2)\n",
              "  (lin_layer): Linear(in_features=128, out_features=16783, bias=True)\n",
              "  (cond_layer): Linear(in_features=1, out_features=128, bias=False)\n",
              ")"
            ]
          },
          "metadata": {},
          "execution_count": 21
        }
      ]
    },
    {
      "cell_type": "code",
      "source": [
        "GRU_add_loss = RNN_train(GRU_model_add, dataset, cond='add', epochs=15)"
      ],
      "metadata": {
        "colab": {
          "base_uri": "https://localhost:8080/"
        },
        "id": "Il0RAqe0aq1F",
        "outputId": "58205847-fb72-4362-a70f-92f61171523d"
      },
      "execution_count": 22,
      "outputs": [
        {
          "output_type": "stream",
          "name": "stdout",
          "text": [
            "epoch: 1, loss: 6.4024577140808105, elapsed: 3.45 s\n",
            "epoch: 2, loss: 5.504766464233398, elapsed: 6.88 s\n",
            "epoch: 3, loss: 4.88184928894043, elapsed: 10.31 s\n",
            "epoch: 4, loss: 4.3351263999938965, elapsed: 13.74 s\n",
            "epoch: 5, loss: 3.8374266624450684, elapsed: 17.17 s\n",
            "epoch: 6, loss: 3.256939172744751, elapsed: 20.73 s\n",
            "epoch: 7, loss: 2.8036131858825684, elapsed: 24.24 s\n",
            "epoch: 8, loss: 2.195232629776001, elapsed: 27.67 s\n",
            "epoch: 9, loss: 1.9160429239273071, elapsed: 31.10 s\n",
            "epoch: 10, loss: 1.4964778423309326, elapsed: 34.52 s\n",
            "epoch: 11, loss: 1.2374624013900757, elapsed: 37.95 s\n",
            "epoch: 12, loss: 1.1330047845840454, elapsed: 41.44 s\n",
            "epoch: 13, loss: 0.8482736945152283, elapsed: 44.87 s\n",
            "epoch: 14, loss: 0.8103534579277039, elapsed: 48.33 s\n",
            "epoch: 15, loss: 0.6355587840080261, elapsed: 52.09 s\n"
          ]
        }
      ]
    },
    {
      "cell_type": "code",
      "source": [
        "GRU_model_mul = GRU_Model(dataset)\n",
        "GRU_model_mul.to('cuda')"
      ],
      "metadata": {
        "colab": {
          "base_uri": "https://localhost:8080/"
        },
        "id": "Z93cdpSORVh7",
        "outputId": "02c13b8f-cd27-4144-fa3b-334601994f24"
      },
      "execution_count": 46,
      "outputs": [
        {
          "output_type": "execute_result",
          "data": {
            "text/plain": [
              "GRU_Model(\n",
              "  (emb_layer): Embedding(16783, 128)\n",
              "  (gru_layer): GRU(128, 128, num_layers=2, dropout=0.2)\n",
              "  (lin_layer): Linear(in_features=128, out_features=16783, bias=True)\n",
              "  (cond_layer): Linear(in_features=1, out_features=128, bias=False)\n",
              ")"
            ]
          },
          "metadata": {},
          "execution_count": 46
        }
      ]
    },
    {
      "cell_type": "code",
      "source": [
        "GRU_mul_loss = RNN_train(GRU_model_mul, dataset, cond='mul', epochs=15)"
      ],
      "metadata": {
        "colab": {
          "base_uri": "https://localhost:8080/"
        },
        "id": "5yN9bpFrato7",
        "outputId": "e806df5a-89ce-41ec-9237-c7dcc39db996"
      },
      "execution_count": 47,
      "outputs": [
        {
          "output_type": "stream",
          "name": "stdout",
          "text": [
            "epoch: 1, loss: 6.511735439300537, elapsed: 3.45 s\n",
            "epoch: 2, loss: 6.05702018737793, elapsed: 6.89 s\n",
            "epoch: 3, loss: 5.867367267608643, elapsed: 10.33 s\n",
            "epoch: 4, loss: 5.7372331619262695, elapsed: 13.77 s\n",
            "epoch: 5, loss: 5.665899276733398, elapsed: 17.21 s\n",
            "epoch: 6, loss: 5.595876693725586, elapsed: 20.65 s\n",
            "epoch: 7, loss: 5.609720230102539, elapsed: 24.09 s\n",
            "epoch: 8, loss: 5.524279594421387, elapsed: 27.54 s\n",
            "epoch: 9, loss: 5.509462356567383, elapsed: 31.05 s\n",
            "epoch: 10, loss: 5.548664093017578, elapsed: 34.49 s\n",
            "epoch: 11, loss: 5.5436110496521, elapsed: 37.93 s\n",
            "epoch: 12, loss: 5.519361972808838, elapsed: 41.39 s\n",
            "epoch: 13, loss: 5.634439468383789, elapsed: 44.83 s\n",
            "epoch: 14, loss: 5.489741802215576, elapsed: 48.27 s\n",
            "epoch: 15, loss: 5.442396640777588, elapsed: 51.71 s\n"
          ]
        }
      ]
    },
    {
      "cell_type": "code",
      "source": [
        "def create_lyric(model, dataset, input, artist, bar_len=15):\n",
        "  model.eval()\n",
        "  words = input.split()\n",
        "  artist = dataset.encode_cat[artist]\n",
        "  h, c = model.init_hidden()\n",
        "  tokens = np.array([dataset.stoi[word] for word in input.split()])\n",
        "\n",
        "  def predict(model, dataset, tensor, artist, h, c):\n",
        "    cat_tens = torch.full_like(tensor, artist)\n",
        "    cat_tens = cat_tens.type(torch.FloatTensor)\n",
        "    cat_tens = torch.unsqueeze(cat_tens, 2).to('cuda')\n",
        "    out, (h, c) = model(cat_tens, tensor, (h,c))\n",
        "    token_prob = F.softmax(out[0][2], dim=0).detach().cpu().numpy()\n",
        "    rand_idx = np.random.choice(len(dataset), p=token_prob)\n",
        "    return dataset.itos[rand_idx], (h, c)\n",
        "\n",
        "  for i in range(bar_len):\n",
        "    sub = words[i:i+dataset.seq_len]\n",
        "    pred_word, (h, c) = predict(model, dataset, torch.tensor([[dataset.stoi[word] for word in sub]]).to('cuda'), artist, h, c)\n",
        "    words.append(pred_word)\n",
        "\n",
        "  return ' '.join(words)"
      ],
      "metadata": {
        "id": "yXCjwm5XnnHc"
      },
      "execution_count": 12,
      "outputs": []
    },
    {
      "cell_type": "code",
      "source": [
        "class FiLM_Generator(nn.Module):\n",
        "  def __init__(self):\n",
        "    super(FiLM_Generator, self).__init__()\n",
        "    self.fc1 = nn.Linear(128, 64)\n",
        "    self.sig1 = nn.Sigmoid()\n",
        "    self.fc2 = nn.Linear(64, 128*2)\n",
        "\n",
        "  def forward(self, x):\n",
        "    out = self.fc1(x)\n",
        "    out = self.sig1(out)\n",
        "    out = self.fc2(out)\n",
        "    gamma = out[:,:,:128]\n",
        "    beta = out[:,:,128:]\n",
        "    return gamma, beta\n",
        "\n",
        "class FiLM_Layer(nn.Module):\n",
        "  def __init__(self):\n",
        "    super(FiLM_Layer, self).__init__()\n",
        "    self.gen = FiLM_Generator()\n",
        "\n",
        "  def forward(self, cout, x):\n",
        "    gamma, beta = self.gen(cout)\n",
        "    out = gamma * x + beta\n",
        "    return out"
      ],
      "metadata": {
        "id": "MDbNEoz-uaEm"
      },
      "execution_count": 13,
      "outputs": []
    },
    {
      "cell_type": "code",
      "source": [
        "class FiLMed_GRU_Model(nn.Module):\n",
        "  def __init__(self, dataset, batch_dim=32):\n",
        "    super(FiLMed_GRU_Model, self).__init__()\n",
        "    self.vocab_dim = len(dataset.stoi)\n",
        "    self.seq_len = dataset.seq_len\n",
        "    self.batch_dim = batch_dim\n",
        "\n",
        "    self.emb_layer = nn.Embedding(\n",
        "        num_embeddings=self.vocab_dim,\n",
        "        embedding_dim=128\n",
        "    )\n",
        "    self.gru_layer = nn.GRU(\n",
        "        input_size=128,\n",
        "        hidden_size=128,\n",
        "        num_layers=2,\n",
        "        dropout=0.2\n",
        "    )\n",
        "    self.lin_layer = nn.Linear(\n",
        "        128,\n",
        "        self.vocab_dim\n",
        "    )\n",
        "    self.cond_layer = nn.Linear(\n",
        "    1,\n",
        "    128,\n",
        "    bias=False\n",
        "    )\n",
        "    self.FiLM = FiLM_Layer()\n",
        "\n",
        "  def forward(self, cat, x, hidden):\n",
        "    out = self.emb_layer(x)\n",
        "    cout = self.cond_layer(cat)\n",
        "    out, hid = self.gru_layer(out)\n",
        "    out = self.FiLM(cout, out)\n",
        "    out = self.lin_layer(out)\n",
        "    return out, hid\n",
        "\n",
        "  def init_hidden(self):\n",
        "    return torch.zeros(2, self.batch_dim, 128), torch.zeros(2, self.batch_dim, 128)"
      ],
      "metadata": {
        "id": "5itg_n1BsYok"
      },
      "execution_count": 14,
      "outputs": []
    },
    {
      "cell_type": "code",
      "source": [
        "class FiLMed_LSTM_Model(nn.Module):\n",
        "  def __init__(self, dataset, batch_dim=32):\n",
        "    super(FiLMed_LSTM_Model, self).__init__()\n",
        "    self.vocab_dim = len(dataset.stoi)\n",
        "    self.seq_len = dataset.seq_len\n",
        "    self.batch_dim = batch_dim\n",
        "\n",
        "    self.emb_layer = nn.Embedding(\n",
        "        num_embeddings=self.vocab_dim,\n",
        "        embedding_dim=128\n",
        "    )\n",
        "    self.lstm_layer = nn.LSTM(\n",
        "        input_size=128,\n",
        "        hidden_size=128,\n",
        "        num_layers=2,\n",
        "        dropout=0.2\n",
        "    )\n",
        "    self.lin_layer = nn.Linear(\n",
        "        128,\n",
        "        self.vocab_dim\n",
        "    )\n",
        "    self.cond_layer = nn.Linear(\n",
        "    1,\n",
        "    128,\n",
        "    bias=False\n",
        "    )\n",
        "    self.FiLM = FiLM_Layer()\n",
        "\n",
        "  def forward(self, cat, x, hidden):\n",
        "    out = self.emb_layer(x)\n",
        "    cout = self.cond_layer(cat)\n",
        "    out, hid = self.lstm_layer(out)\n",
        "    out = self.FiLM(cout, out)\n",
        "    out = self.lin_layer(out)\n",
        "    return out, hid\n",
        "\n",
        "  def init_hidden(self):\n",
        "    return torch.zeros(2, self.batch_dim, 128), torch.zeros(2, self.batch_dim, 128)"
      ],
      "metadata": {
        "id": "RCg5_zRPofhP"
      },
      "execution_count": 15,
      "outputs": []
    },
    {
      "cell_type": "code",
      "source": [
        "def FiLMed_train(model, dataset, batch_dim=32, lr=1e-3, epochs=15):\n",
        "  model.train()\n",
        "  loader = DataLoader(dataset, batch_size=batch_dim)\n",
        "  crit = nn.CrossEntropyLoss()\n",
        "  opt = optim.Adam(model.parameters(), lr=lr)\n",
        "\n",
        "  start = time()\n",
        "  losses = []\n",
        "  for epoch in range(epochs):\n",
        "    h, c = model.init_hidden()\n",
        "\n",
        "    for batch, (cat, input, target) in enumerate(loader):\n",
        "      val = cat.data[0]\n",
        "      cat_tens = torch.full_like(input, val)\n",
        "      cat_tens = cat_tens.type(torch.FloatTensor)\n",
        "      cat_tens = torch.unsqueeze(cat_tens, 2).to('cuda')\n",
        "      input = input.to('cuda')\n",
        "      target = target.to('cuda')\n",
        "\n",
        "      opt.zero_grad()\n",
        "      pred, (h,c) = model(cat_tens, input, (h, c))\n",
        "      loss = crit(pred.transpose(1,2), target)\n",
        "\n",
        "      loss.backward()\n",
        "      opt.step()\n",
        "    \n",
        "    losses.append(loss.item())\n",
        "    elapsed = time() - start\n",
        "    print(f'epoch: {epoch+1}, loss: {loss.item()}, elapsed: {elapsed:.2f} s')\n",
        "  return losses"
      ],
      "metadata": {
        "id": "vFXUJmffEo-P"
      },
      "execution_count": 16,
      "outputs": []
    },
    {
      "cell_type": "code",
      "source": [
        "FiLMed_GRU = FiLMed_GRU_Model(dataset)\n",
        "FiLMed_GRU.to('cuda')"
      ],
      "metadata": {
        "id": "B39kp_1BEX0Y",
        "colab": {
          "base_uri": "https://localhost:8080/"
        },
        "outputId": "e7f9b99f-5852-49d4-b8b7-e668be3bcf0d"
      },
      "execution_count": 17,
      "outputs": [
        {
          "output_type": "execute_result",
          "data": {
            "text/plain": [
              "FiLMed_GRU_Model(\n",
              "  (emb_layer): Embedding(16783, 128)\n",
              "  (gru_layer): GRU(128, 128, num_layers=2, dropout=0.2)\n",
              "  (lin_layer): Linear(in_features=128, out_features=16783, bias=True)\n",
              "  (cond_layer): Linear(in_features=1, out_features=128, bias=False)\n",
              "  (FiLM): FiLM_Layer(\n",
              "    (gen): FiLM_Generator(\n",
              "      (fc1): Linear(in_features=128, out_features=64, bias=True)\n",
              "      (sig1): Sigmoid()\n",
              "      (fc2): Linear(in_features=64, out_features=256, bias=True)\n",
              "    )\n",
              "  )\n",
              ")"
            ]
          },
          "metadata": {},
          "execution_count": 17
        }
      ]
    },
    {
      "cell_type": "code",
      "source": [
        "GRU_FiLMed_losses = FiLMed_train(FiLMed_GRU, dataset, epochs=15)"
      ],
      "metadata": {
        "colab": {
          "base_uri": "https://localhost:8080/"
        },
        "id": "mDaSaOW6EjQh",
        "outputId": "ce6b3211-2810-440a-b1c8-8553466cd7ce"
      },
      "execution_count": 18,
      "outputs": [
        {
          "output_type": "stream",
          "name": "stdout",
          "text": [
            "epoch: 1, loss: 5.949640274047852, elapsed: 3.68 s\n",
            "epoch: 2, loss: 4.7576727867126465, elapsed: 7.29 s\n",
            "epoch: 3, loss: 3.0678327083587646, elapsed: 10.91 s\n",
            "epoch: 4, loss: 1.5630372762680054, elapsed: 14.67 s\n",
            "epoch: 5, loss: 1.1635074615478516, elapsed: 18.78 s\n",
            "epoch: 6, loss: 0.8442501425743103, elapsed: 22.73 s\n",
            "epoch: 7, loss: 0.9807001948356628, elapsed: 26.52 s\n",
            "epoch: 8, loss: 0.7367600798606873, elapsed: 30.13 s\n",
            "epoch: 9, loss: 0.6737814545631409, elapsed: 33.74 s\n",
            "epoch: 10, loss: 0.5497861504554749, elapsed: 37.35 s\n",
            "epoch: 11, loss: 0.3772864043712616, elapsed: 40.96 s\n",
            "epoch: 12, loss: 0.24991370737552643, elapsed: 44.57 s\n",
            "epoch: 13, loss: 0.4476940929889679, elapsed: 48.18 s\n",
            "epoch: 14, loss: 0.5974217653274536, elapsed: 51.79 s\n",
            "epoch: 15, loss: 0.3015216290950775, elapsed: 55.41 s\n"
          ]
        }
      ]
    },
    {
      "cell_type": "code",
      "source": [
        "FiLMed_LSTM = FiLMed_LSTM_Model(dataset)\n",
        "FiLMed_LSTM.to('cuda')"
      ],
      "metadata": {
        "id": "TWKxSPMpX42o",
        "outputId": "39f08133-5c72-4569-9202-879135738039",
        "colab": {
          "base_uri": "https://localhost:8080/"
        }
      },
      "execution_count": 30,
      "outputs": [
        {
          "output_type": "execute_result",
          "data": {
            "text/plain": [
              "FiLMed_LSTM_Model(\n",
              "  (emb_layer): Embedding(16783, 128)\n",
              "  (lstm_layer): LSTM(128, 128, num_layers=2, dropout=0.2)\n",
              "  (lin_layer): Linear(in_features=128, out_features=16783, bias=True)\n",
              "  (cond_layer): Linear(in_features=1, out_features=128, bias=False)\n",
              "  (FiLM): FiLM_Layer(\n",
              "    (gen): FiLM_Generator(\n",
              "      (fc1): Linear(in_features=128, out_features=64, bias=True)\n",
              "      (sig1): Sigmoid()\n",
              "      (fc2): Linear(in_features=64, out_features=256, bias=True)\n",
              "    )\n",
              "  )\n",
              ")"
            ]
          },
          "metadata": {},
          "execution_count": 30
        }
      ]
    },
    {
      "cell_type": "code",
      "source": [
        "LSTM_FiLMed_losses = FiLMed_train(FiLMed_LSTM, dataset, epochs=15)"
      ],
      "metadata": {
        "colab": {
          "base_uri": "https://localhost:8080/"
        },
        "id": "Ea8_9cYzo2Sj",
        "outputId": "239935b1-3c42-467e-d106-032ceaef443f"
      },
      "execution_count": 31,
      "outputs": [
        {
          "output_type": "stream",
          "name": "stdout",
          "text": [
            "epoch: 1, loss: 6.144692897796631, elapsed: 3.95 s\n",
            "epoch: 2, loss: 5.273354530334473, elapsed: 7.70 s\n",
            "epoch: 3, loss: 4.314802169799805, elapsed: 11.45 s\n",
            "epoch: 4, loss: 3.2003235816955566, elapsed: 15.19 s\n",
            "epoch: 5, loss: 2.409721612930298, elapsed: 18.94 s\n",
            "epoch: 6, loss: 1.6091773509979248, elapsed: 22.69 s\n",
            "epoch: 7, loss: 1.1383036375045776, elapsed: 26.44 s\n",
            "epoch: 8, loss: 0.9606184959411621, elapsed: 30.19 s\n",
            "epoch: 9, loss: 0.719239354133606, elapsed: 33.94 s\n",
            "epoch: 10, loss: 0.5935797095298767, elapsed: 37.69 s\n",
            "epoch: 11, loss: 0.44358500838279724, elapsed: 41.44 s\n",
            "epoch: 12, loss: 0.7130871415138245, elapsed: 45.19 s\n",
            "epoch: 13, loss: 0.4286450743675232, elapsed: 48.94 s\n",
            "epoch: 14, loss: 0.3357324004173279, elapsed: 52.69 s\n",
            "epoch: 15, loss: 0.37198248505592346, elapsed: 56.44 s\n"
          ]
        }
      ]
    },
    {
      "cell_type": "code",
      "source": [
        "plt.plot(list(range(15)), LSTM_add_loss, label='LSTM (add cond.)')\n",
        "plt.plot(list(range(15)), LSTM_mul_loss, label='LSTM (mul cond.)')\n",
        "plt.plot(list(range(15)), LSTM_FiLMed_losses, label='LSTM with FiLM layers')\n",
        "plt.plot(list(range(15)), GRU_add_loss, label='GRU (add cond.)')\n",
        "plt.plot(list(range(15)), GRU_mul_loss, label='GRU (mul cond.)')\n",
        "plt.plot(list(range(15)), GRU_FiLMed_losses, label='GRU with FiLM layers')\n",
        "plt.title('CE Loss for LSTM/GRU Models')\n",
        "plt.xlabel('Epochs')\n",
        "plt.ylabel('Loss')\n",
        "plt.legend(bbox_to_anchor=(1.48,1), loc='upper right')\n",
        "plt.show()"
      ],
      "metadata": {
        "colab": {
          "base_uri": "https://localhost:8080/",
          "height": 295
        },
        "id": "1Z2ePhx_a2CP",
        "outputId": "c741afea-17d4-427e-a779-ec7d4dd6f327"
      },
      "execution_count": 41,
      "outputs": [
        {
          "output_type": "display_data",
          "data": {
            "text/plain": [
              "<Figure size 432x288 with 1 Axes>"
            ],
            "image/png": "[encoded data removed]"
          },
          "metadata": {
            "needs_background": "light"
          }
        }
      ]
    },
    {
      "cell_type": "code",
      "source": [
        "input = 'i love the'\n",
        "artist = 'Kendrick Lamar'\n",
        "create_lyric(model, dataset, input, artist)"
      ],
      "metadata": {
        "colab": {
          "base_uri": "https://localhost:8080/",
          "height": 35
        },
        "id": "9eIbMV5mF8ei",
        "outputId": "06212b4b-4598-4976-89e1-b8b83604fbf9"
      },
      "execution_count": 95,
      "outputs": [
        {
          "output_type": "execute_result",
          "data": {
            "text/plain": [
              "'i love the club just in a nigga freebandz out that shit if you lookin immigrants all this'"
            ],
            "application/vnd.google.colaboratory.intrinsic+json": {
              "type": "string"
            }
          },
          "metadata": {},
          "execution_count": 95
        }
      ]
    },
    {
      "cell_type": "code",
      "source": [
        "input = 'i love the'\n",
        "artist = 'Freddie Gibbs'\n",
        "create_lyric(model, dataset, input, artist)"
      ],
      "metadata": {
        "colab": {
          "base_uri": "https://localhost:8080/",
          "height": 35
        },
        "id": "CS2U1Z7-ghr-",
        "outputId": "21c50ce3-fd75-456e-f636-9b0e3df862a2"
      },
      "execution_count": 92,
      "outputs": [
        {
          "output_type": "execute_result",
          "data": {
            "text/plain": [
              "'i love the game got a nigga lets ice on a new jewelry when i just been payin'"
            ],
            "application/vnd.google.colaboratory.intrinsic+json": {
              "type": "string"
            }
          },
          "metadata": {},
          "execution_count": 92
        }
      ]
    },
    {
      "cell_type": "code",
      "source": [
        "input = 'i love the'\n",
        "artist = 'Future'\n",
        "create_lyric(model, dataset, input, artist)"
      ],
      "metadata": {
        "colab": {
          "base_uri": "https://localhost:8080/",
          "height": 35
        },
        "id": "ayfMrPK1giE4",
        "outputId": "ba80c777-2216-42d9-8327-70686d7d74cf"
      },
      "execution_count": 88,
      "outputs": [
        {
          "output_type": "execute_result",
          "data": {
            "text/plain": [
              "'i love the slammer and we poured an ounce in the ceiling it aint never been payin off'"
            ],
            "application/vnd.google.colaboratory.intrinsic+json": {
              "type": "string"
            }
          },
          "metadata": {},
          "execution_count": 88
        }
      ]
    },
    {
      "cell_type": "code",
      "source": [
        "class Generator(nn.Module):\n",
        "  def __init__(self, dataset, batch_dim=32):\n",
        "    super(Generator, self).__init__()\n",
        "    self.vocab_dim = len(dataset.stoi)\n",
        "    self.seq_len = dataset.seq_len\n",
        "    self.batch_dim = batch_dim\n",
        "\n",
        "    self.emb_layer = nn.Embedding(\n",
        "        num_embeddings=self.vocab_dim,\n",
        "        embedding_dim=128\n",
        "    )\n",
        "    self.gru_layer = nn.GRU(\n",
        "        input_size=128,\n",
        "        hidden_size=128,\n",
        "        num_layers=2,\n",
        "        dropout=0.2\n",
        "    )\n",
        "    self.lin_layer = nn.Linear(\n",
        "        128,\n",
        "        self.vocab_dim\n",
        "    )\n",
        "    self.cond_layer = nn.Linear(\n",
        "    1,\n",
        "    128,\n",
        "    bias=False\n",
        "    )\n",
        "\n",
        "  def forward(self, cat, x, hidden, cond=None):\n",
        "    out = self.emb_layer(x)\n",
        "    cout = self.cond_layer(cat)\n",
        "    if cond=='add':\n",
        "      out = torch.add(out, cout)\n",
        "    elif cond=='mul':\n",
        "      out = torch.mul(out, cout)\n",
        "    out, hid = self.gru_layer(out)\n",
        "    out = self.lin_layer(out)\n",
        "    return out, hid\n",
        "\n",
        "  def init_hidden(self):\n",
        "    return torch.zeros(2, self.batch_dim, 128), torch.zeros(2, self.batch_dim, 128)"
      ],
      "metadata": {
        "id": "YiL1UQqECCeI"
      },
      "execution_count": 64,
      "outputs": []
    },
    {
      "cell_type": "code",
      "source": [
        "class FiLMed_Generator(nn.Module):\n",
        "  def __init__(self, dataset, batch_dim=32):\n",
        "    super(FiLMed_Generator, self).__init__()\n",
        "    self.vocab_dim = len(dataset.stoi)\n",
        "    self.seq_len = dataset.seq_len\n",
        "    self.batch_dim = batch_dim\n",
        "\n",
        "    self.emb_layer = nn.Embedding(\n",
        "        num_embeddings=self.vocab_dim,\n",
        "        embedding_dim=128\n",
        "    )\n",
        "    self.gru_layer = nn.GRU(\n",
        "        input_size=128,\n",
        "        hidden_size=128,\n",
        "        num_layers=2,\n",
        "        dropout=0.2\n",
        "    )\n",
        "    self.lin_layer = nn.Linear(\n",
        "        128,\n",
        "        self.vocab_dim\n",
        "    )\n",
        "    self.cond_layer = nn.Linear(\n",
        "    1,\n",
        "    128,\n",
        "    bias=False\n",
        "    )\n",
        "    self.FiLM = FiLM_Layer()\n",
        "\n",
        "  def forward(self, cat, x, hidden, cond=None):\n",
        "    out = self.emb_layer(x)\n",
        "    cout = self.cond_layer(cat)\n",
        "    out, hid = self.gru_layer(out)\n",
        "    out = self.FiLM(cout, out)\n",
        "    out = self.lin_layer(out)\n",
        "    return out, hid\n",
        "\n",
        "  def init_hidden(self):\n",
        "    return torch.zeros(2, self.batch_dim, 128), torch.zeros(2, self.batch_dim, 128)"
      ],
      "metadata": {
        "id": "YUBi95KLia-H"
      },
      "execution_count": 65,
      "outputs": []
    },
    {
      "cell_type": "code",
      "source": [
        "class Discriminator(nn.Module):\n",
        "  def __init__(self, dataset, batch_dim=32):\n",
        "    super(Discriminator, self).__init__()\n",
        "    self.vocab_dim = len(dataset.stoi)\n",
        "    self.seq_len = dataset.seq_len\n",
        "    self.batch_dim = batch_dim\n",
        "\n",
        "    self.emb_layer = nn.Embedding(\n",
        "        num_embeddings=self.vocab_dim,\n",
        "        embedding_dim=128\n",
        "    )\n",
        "    self.gru_layer = nn.GRU(\n",
        "        input_size=128,\n",
        "        hidden_size=128,\n",
        "        num_layers=2,\n",
        "        dropout=0.2\n",
        "    )\n",
        "    self.lin_layer = nn.Linear(\n",
        "        128,\n",
        "        1\n",
        "    )\n",
        "    self.sig = nn.Sigmoid()\n",
        "\n",
        "  def forward(self, x, hidden):\n",
        "    out = self.emb_layer(x)\n",
        "    out, hid = self.gru_layer(out)\n",
        "    out = self.lin_layer(out)\n",
        "    out = self.sig(out)\n",
        "    return out, hid\n",
        "\n",
        "  def init_hidden(self):\n",
        "    return torch.zeros(2, self.batch_dim, 128), torch.zeros(2, self.batch_dim, 128)"
      ],
      "metadata": {
        "id": "73wlyqURCS_h"
      },
      "execution_count": 66,
      "outputs": []
    },
    {
      "cell_type": "code",
      "source": [
        "def GAN_train(gen, dis, dataset, batch_dim=32, lr=0.000002, epochs=15, cond=None, film=False):\n",
        "  gen.train()\n",
        "  dis.train()\n",
        "  gen_opt = optim.Adam(gen.parameters(), lr=lr)\n",
        "  dis_opt = optim.Adam(dis.parameters(), lr=lr)\n",
        "\n",
        "  loader = DataLoader(dataset, batch_size=batch_dim)\n",
        "  crit = nn.BCELoss()\n",
        "\n",
        "  high = len(dataset)-1\n",
        "\n",
        "  # Given random noise, generate (batch_dim, 5) size output tensor.\n",
        "  def fake_gen(cat_tens, noise, h, c):\n",
        "    tokens = noise\n",
        "    for j in range(5):\n",
        "      sub = tokens[:, j:j+5].long()\n",
        "      out_prob, (h,c) = gen(cat_tens, sub, (h,c), cond=cond)\n",
        "      token_prob = F.softmax(out_prob[:,-1,:], dim=0).to('cuda')\n",
        "      new = torch.multinomial(token_prob, 1).to('cuda')\n",
        "      tokens = torch.cat((tokens, new),1).to('cuda')\n",
        "    fake = tokens[:, -5:].to('cuda')\n",
        "    return fake\n",
        "\n",
        "  start = time()\n",
        "  \n",
        "  gen_losses = []\n",
        "  dis_losses = []\n",
        "  for epoch in range(epochs):\n",
        "    h, c = gen.init_hidden()\n",
        "\n",
        "    for batch, (cat, input, target) in enumerate(loader):\n",
        "      val = cat.data[0]\n",
        "      cat_tens = torch.full((batch_dim,5,1), val).type(torch.FloatTensor).to('cuda')\n",
        "      input = input.to('cuda')\n",
        "      target = target.to('cuda')\n",
        "\n",
        "      noise = torch.randint(low=0, high=high, size=(batch_dim,5)).to('cuda')\n",
        "      fake = fake_gen(cat_tens, noise, h, c)\n",
        "\n",
        "      # Train disc \n",
        "      dis_opt.zero_grad()\n",
        "      pred_r, (h,c) = dis(input, (h,c))\n",
        "      loss_r = crit(pred_r, torch.ones_like(pred_r).to('cuda'))\n",
        "      loss_r.backward()\n",
        "\n",
        "      pred_f, (h,c) = dis(fake, (h,c))\n",
        "      loss_f = crit(pred_f, torch.zeros_like(pred_f).to('cuda'))\n",
        "      loss_f.backward()\n",
        "\n",
        "      dis_opt.step()\n",
        "      d_loss = loss_r + loss_f\n",
        "\n",
        "      # Train gen\n",
        "      noise = torch.randint(low=0, high=high, size=(batch_dim,5)).to('cuda')\n",
        "      fake = fake_gen(cat_tens, noise, h, c)\n",
        "\n",
        "      gen_opt.zero_grad()\n",
        "      pred, (h,c) = dis(fake, (h,c))\n",
        "      g_loss = crit(pred, torch.ones_like(pred).to('cuda'))\n",
        "      g_loss.backward()\n",
        "      gen_opt.step()\n",
        "\n",
        "    elapsed = time() - start\n",
        "    gen_losses.append(g_loss.item())\n",
        "    dis_losses.append(d_loss.item())\n",
        "    print(f'epoch: {epoch+1}, gen_loss: {g_loss.item()},  dis_loss: {d_loss.item()}, elapsed: {elapsed:.2f} s')\n",
        "  return gen_losses, dis_losses"
      ],
      "metadata": {
        "id": "7QesMYLR3Y6W"
      },
      "execution_count": 125,
      "outputs": []
    },
    {
      "cell_type": "code",
      "source": [
        "batch_dim = 16\n",
        "gen_add = Generator(dataset, batch_dim=batch_dim)\n",
        "dis_add = Discriminator(dataset, batch_dim=batch_dim)\n",
        "gen_add.to('cuda')\n",
        "dis_add.to('cuda')"
      ],
      "metadata": {
        "colab": {
          "base_uri": "https://localhost:8080/"
        },
        "id": "JXjBP2pMExnn",
        "outputId": "575b0630-da97-46c1-f821-e38f1324b0f9"
      },
      "execution_count": 130,
      "outputs": [
        {
          "output_type": "execute_result",
          "data": {
            "text/plain": [
              "Discriminator(\n",
              "  (emb_layer): Embedding(16783, 128)\n",
              "  (gru_layer): GRU(128, 128, num_layers=2, dropout=0.2)\n",
              "  (lin_layer): Linear(in_features=128, out_features=1, bias=True)\n",
              "  (sig): Sigmoid()\n",
              ")"
            ]
          },
          "metadata": {},
          "execution_count": 130
        }
      ]
    },
    {
      "cell_type": "code",
      "source": [
        "GEN_add_loss, DIS_add_loss = GAN_train(gen_add, dis_add, dataset, cond='add', epochs=15, batch_dim=batch_dim)"
      ],
      "metadata": {
        "colab": {
          "base_uri": "https://localhost:8080/"
        },
        "id": "paSLVG11FYoV",
        "outputId": "1a2cdb9b-77cb-4f40-9db1-aa2e599dca14"
      },
      "execution_count": 131,
      "outputs": [
        {
          "output_type": "stream",
          "name": "stdout",
          "text": [
            "epoch: 1, gen_loss: 0.7425898909568787,  dis_loss: 1.3862663507461548, elapsed: 19.29 s\n",
            "epoch: 2, gen_loss: 0.7195472121238708,  dis_loss: 1.3707525730133057, elapsed: 38.46 s\n",
            "epoch: 3, gen_loss: 0.7221159934997559,  dis_loss: 1.3733797073364258, elapsed: 57.63 s\n",
            "epoch: 4, gen_loss: 0.7247930765151978,  dis_loss: 1.3198505640029907, elapsed: 76.86 s\n",
            "epoch: 5, gen_loss: 0.7472826242446899,  dis_loss: 1.2890608310699463, elapsed: 96.03 s\n",
            "epoch: 6, gen_loss: 0.7326573729515076,  dis_loss: 1.2439481019973755, elapsed: 115.19 s\n",
            "epoch: 7, gen_loss: 0.727276086807251,  dis_loss: 1.162832498550415, elapsed: 134.36 s\n",
            "epoch: 8, gen_loss: 0.9186684489250183,  dis_loss: 1.1084038019180298, elapsed: 153.53 s\n",
            "epoch: 9, gen_loss: 0.8969550132751465,  dis_loss: 1.0201292037963867, elapsed: 172.80 s\n",
            "epoch: 10, gen_loss: 1.1000782251358032,  dis_loss: 0.9162951111793518, elapsed: 191.99 s\n",
            "epoch: 11, gen_loss: 1.304594874382019,  dis_loss: 0.7558757066726685, elapsed: 211.21 s\n",
            "epoch: 12, gen_loss: 1.5829988718032837,  dis_loss: 0.8745906949043274, elapsed: 230.44 s\n",
            "epoch: 13, gen_loss: 1.4534447193145752,  dis_loss: 0.5747196674346924, elapsed: 249.64 s\n",
            "epoch: 14, gen_loss: 1.3487249612808228,  dis_loss: 0.5479766130447388, elapsed: 268.82 s\n",
            "epoch: 15, gen_loss: 2.659248113632202,  dis_loss: 0.6479257345199585, elapsed: 287.94 s\n"
          ]
        }
      ]
    },
    {
      "cell_type": "code",
      "source": [
        "gen_mul = Generator(dataset, batch_dim=batch_dim)\n",
        "dis_mul = Discriminator(dataset, batch_dim=batch_dim)\n",
        "gen_mul.to('cuda')\n",
        "dis_mul.to('cuda')"
      ],
      "metadata": {
        "id": "7DEq5cqhbQos",
        "outputId": "bf9f60e9-103c-4a7b-a984-8e1328f3ffc2",
        "colab": {
          "base_uri": "https://localhost:8080/"
        }
      },
      "execution_count": 132,
      "outputs": [
        {
          "output_type": "execute_result",
          "data": {
            "text/plain": [
              "Discriminator(\n",
              "  (emb_layer): Embedding(16783, 128)\n",
              "  (gru_layer): GRU(128, 128, num_layers=2, dropout=0.2)\n",
              "  (lin_layer): Linear(in_features=128, out_features=1, bias=True)\n",
              "  (sig): Sigmoid()\n",
              ")"
            ]
          },
          "metadata": {},
          "execution_count": 132
        }
      ]
    },
    {
      "cell_type": "code",
      "source": [
        "GEN_mul_loss, DIS_mul_loss = GAN_train(gen_mul, dis_mul, dataset, cond='mul', epochs=15, batch_dim=batch_dim)"
      ],
      "metadata": {
        "colab": {
          "base_uri": "https://localhost:8080/"
        },
        "id": "63FhbTBpiNp-",
        "outputId": "30f5f9a7-1fea-4e08-faa5-a4d5f7f4bec1"
      },
      "execution_count": 133,
      "outputs": [
        {
          "output_type": "stream",
          "name": "stdout",
          "text": [
            "epoch: 1, gen_loss: 0.7002310156822205,  dis_loss: 1.3395066261291504, elapsed: 19.16 s\n",
            "epoch: 2, gen_loss: 0.6991201043128967,  dis_loss: 1.3136051893234253, elapsed: 38.29 s\n",
            "epoch: 3, gen_loss: 0.7065899968147278,  dis_loss: 1.2857344150543213, elapsed: 57.41 s\n",
            "epoch: 4, gen_loss: 0.6877476572990417,  dis_loss: 1.2334104776382446, elapsed: 76.54 s\n",
            "epoch: 5, gen_loss: 0.7333046793937683,  dis_loss: 1.1277557611465454, elapsed: 95.70 s\n",
            "epoch: 6, gen_loss: 0.8505059480667114,  dis_loss: 1.1119898557662964, elapsed: 114.84 s\n",
            "epoch: 7, gen_loss: 0.8886184692382812,  dis_loss: 1.0424985885620117, elapsed: 133.98 s\n",
            "epoch: 8, gen_loss: 1.0545638799667358,  dis_loss: 0.8392280340194702, elapsed: 153.08 s\n",
            "epoch: 9, gen_loss: 1.1961573362350464,  dis_loss: 0.7986138463020325, elapsed: 172.22 s\n",
            "epoch: 10, gen_loss: 1.3005857467651367,  dis_loss: 0.644656240940094, elapsed: 191.36 s\n",
            "epoch: 11, gen_loss: 1.5220683813095093,  dis_loss: 0.7038370370864868, elapsed: 210.54 s\n",
            "epoch: 12, gen_loss: 1.6993337869644165,  dis_loss: 0.5771260261535645, elapsed: 229.68 s\n",
            "epoch: 13, gen_loss: 2.2719857692718506,  dis_loss: 0.4417828321456909, elapsed: 248.84 s\n",
            "epoch: 14, gen_loss: 2.659184217453003,  dis_loss: 0.43988505005836487, elapsed: 267.97 s\n",
            "epoch: 15, gen_loss: 2.266143798828125,  dis_loss: 0.5611954927444458, elapsed: 287.08 s\n"
          ]
        }
      ]
    },
    {
      "cell_type": "code",
      "source": [
        "gen_FiLMed = FiLMed_Generator(dataset, batch_dim=batch_dim)\n",
        "dis_FiLMed = Discriminator(dataset, batch_dim=batch_dim)\n",
        "gen_FiLMed.to('cuda')\n",
        "dis_FiLMed.to('cuda')"
      ],
      "metadata": {
        "id": "b3np3lJSbQaE",
        "outputId": "9b1ddfea-2aab-441d-bea8-6cb0c67fd820",
        "colab": {
          "base_uri": "https://localhost:8080/"
        }
      },
      "execution_count": 134,
      "outputs": [
        {
          "output_type": "execute_result",
          "data": {
            "text/plain": [
              "Discriminator(\n",
              "  (emb_layer): Embedding(16783, 128)\n",
              "  (gru_layer): GRU(128, 128, num_layers=2, dropout=0.2)\n",
              "  (lin_layer): Linear(in_features=128, out_features=1, bias=True)\n",
              "  (sig): Sigmoid()\n",
              ")"
            ]
          },
          "metadata": {},
          "execution_count": 134
        }
      ]
    },
    {
      "cell_type": "code",
      "source": [
        "GENFILM_loss, DISFILM_loss = GAN_train(gen_FiLMed, dis_FiLMed, dataset, cond=None, epochs=15, batch_dim=batch_dim)"
      ],
      "metadata": {
        "colab": {
          "base_uri": "https://localhost:8080/"
        },
        "id": "Gk8NfC6JF4Ev",
        "outputId": "d97911de-a89b-44f4-c47d-cbdd32408e5d"
      },
      "execution_count": 135,
      "outputs": [
        {
          "output_type": "stream",
          "name": "stdout",
          "text": [
            "epoch: 1, gen_loss: 0.664436936378479,  dis_loss: 1.3685319423675537, elapsed: 19.90 s\n",
            "epoch: 2, gen_loss: 0.6629568338394165,  dis_loss: 1.3621240854263306, elapsed: 39.68 s\n",
            "epoch: 3, gen_loss: 0.6986653208732605,  dis_loss: 1.3322172164916992, elapsed: 59.60 s\n",
            "epoch: 4, gen_loss: 0.6966085433959961,  dis_loss: 1.2838754653930664, elapsed: 79.50 s\n",
            "epoch: 5, gen_loss: 0.7701794505119324,  dis_loss: 1.255550503730774, elapsed: 99.33 s\n",
            "epoch: 6, gen_loss: 0.7825640439987183,  dis_loss: 1.14274263381958, elapsed: 119.18 s\n",
            "epoch: 7, gen_loss: 0.8010849952697754,  dis_loss: 1.1321187019348145, elapsed: 139.01 s\n",
            "epoch: 8, gen_loss: 1.0220820903778076,  dis_loss: 0.9310767650604248, elapsed: 158.88 s\n",
            "epoch: 9, gen_loss: 1.410179853439331,  dis_loss: 0.787137508392334, elapsed: 178.75 s\n",
            "epoch: 10, gen_loss: 1.4535194635391235,  dis_loss: 0.6482558846473694, elapsed: 198.55 s\n",
            "epoch: 11, gen_loss: 1.8758491277694702,  dis_loss: 0.5926453471183777, elapsed: 218.35 s\n",
            "epoch: 12, gen_loss: 1.9399391412734985,  dis_loss: 0.5709012746810913, elapsed: 238.19 s\n",
            "epoch: 13, gen_loss: 1.845560908317566,  dis_loss: 0.3826574385166168, elapsed: 258.00 s\n",
            "epoch: 14, gen_loss: 2.2097091674804688,  dis_loss: 0.4648340940475464, elapsed: 277.81 s\n",
            "epoch: 15, gen_loss: 2.3820958137512207,  dis_loss: 0.40472203493118286, elapsed: 297.66 s\n"
          ]
        }
      ]
    },
    {
      "cell_type": "code",
      "source": [
        "plt.figure(figsize=(12,4))\n",
        "plt.subplot(1,2,1)\n",
        "plt.plot(list(range(15)), GEN_add_loss, label='GAN (add cond.)')\n",
        "plt.plot(list(range(15)), GEN_mul_loss, label='GAN (mul cond.)')\n",
        "plt.plot(list(range(15)), GENFILM_loss, label='GAN with FiLM layers')\n",
        "plt.title('BCE Generator Loss')\n",
        "plt.xlabel('Epochs')\n",
        "plt.ylabel('Loss')\n",
        "plt.legend()\n",
        "\n",
        "plt.subplot(1,2,2)\n",
        "plt.plot(list(range(15)), DIS_add_loss, label='GAN (add cond.)')\n",
        "plt.plot(list(range(15)), DIS_mul_loss, label='GAN (mul cond.)')\n",
        "plt.plot(list(range(15)), DISFILM_loss, label='GAN with FiLM layers')\n",
        "plt.axhline(0.5, linestyle='--')\n",
        "plt.title('BCE Discriminator Loss')\n",
        "plt.xlabel('Epochs')\n",
        "plt.ylabel('Loss')\n",
        "plt.legend()\n",
        "plt.show()"
      ],
      "metadata": {
        "colab": {
          "base_uri": "https://localhost:8080/",
          "height": 295
        },
        "id": "QKl3HNTbKryo",
        "outputId": "95e55276-9427-446b-f7ff-3a7515ec43ae"
      },
      "execution_count": 137,
      "outputs": [
        {
          "output_type": "display_data",
          "data": {
            "text/plain": [
              "<Figure size 864x288 with 2 Axes>"
            ],
            "image/png": "[encoded data removed]"
          },
          "metadata": {
            "needs_background": "light"
          }
        }
      ]
    },
    {
      "cell_type": "code",
      "source": [
        "test_set = LyricDataset(test_df)\n",
        "test_list = [tup[1] for tup in list(test_set)]\n",
        "test_tens = torch.reshape(torch.cat(test_list), (-1,5)).double()[:10000,:].to('cuda')"
      ],
      "metadata": {
        "id": "Ro2i0GKSAuhG"
      },
      "execution_count": 138,
      "outputs": []
    },
    {
      "cell_type": "code",
      "source": [
        "def gen_batch(dataset, model, cat_tens, h, c, dim, cond=None):\n",
        "  noise = torch.randint(low=0, high=len(dataset), size=(dim,5)).to('cuda')\n",
        "  for j in range(5):\n",
        "    sub = noise[:, j:j+5].long()\n",
        "    out_prob, (h,c) = model(cat_tens, sub, (h,c), cond=cond)\n",
        "    token_prob = F.softmax(out_prob[:,-1,:], dim=0).to('cuda')\n",
        "    new = torch.multinomial(token_prob, 1).to('cuda')\n",
        "    noise = torch.cat((noise, new),1).to('cuda')\n",
        "  generated = noise[:, -5:].to('cuda')\n",
        "  return generated"
      ],
      "metadata": {
        "id": "4g_WhmW6Nc-b"
      },
      "execution_count": 148,
      "outputs": []
    },
    {
      "cell_type": "code",
      "source": [
        "model = gen_FiLMed"
      ],
      "metadata": {
        "id": "IouXMGGyW4Kx"
      },
      "execution_count": 149,
      "outputs": []
    },
    {
      "cell_type": "code",
      "source": [
        "val = random.choice([0,1,2])\n",
        "cat_tens = torch.full((10000,5,1), val).type(torch.FloatTensor).to('cuda')\n",
        "h, c = model.init_hidden()\n",
        "generated = gen_batch(dataset, model, cat_tens, h, c, dim=10000, cond=None)\n",
        "gen_tens = generated.double()"
      ],
      "metadata": {
        "id": "w904flL8Om4_"
      },
      "execution_count": 150,
      "outputs": []
    },
    {
      "cell_type": "code",
      "source": [
        "def fid(tens1, tens2):\n",
        "  m1 = torch.mean(tens1)\n",
        "  m2 = torch.mean(tens2)\n",
        "  dist = torch.pow((m1-m2),2)\n",
        "  cov1 = torch.cov(tens1)\n",
        "  cov2 = torch.cov(tens2)\n",
        "  tr = torch.trace(cov1 + cov2 - 2*torch.sqrt(cov1*cov2))\n",
        "  return dist.item() + tr.item()"
      ],
      "metadata": {
        "id": "xxL9WudeKw1b"
      },
      "execution_count": 101,
      "outputs": []
    },
    {
      "cell_type": "code",
      "source": [
        "fid(test_tens, gen_tens)"
      ],
      "metadata": {
        "id": "QjiysENaVsr6",
        "outputId": "e6a96298-faf2-4f5e-f3d1-dfc1abbfed10",
        "colab": {
          "base_uri": "https://localhost:8080/"
        }
      },
      "execution_count": 151,
      "outputs": [
        {
          "output_type": "execute_result",
          "data": {
            "text/plain": [
              "76651233147.13625"
            ]
          },
          "metadata": {},
          "execution_count": 151
        }
      ]
    },
    {
      "cell_type": "code",
      "source": [
        "del model\n",
        "torch.cuda.empty_cache()"
      ],
      "metadata": {
        "id": "RYH1vBv-QmIk"
      },
      "execution_count": 147,
      "outputs": []
    }
  ]
}