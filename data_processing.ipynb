{
 "cells": [
  {
   "cell_type": "markdown",
   "metadata": {
    "id": "Xsi1AXMmzJvn"
   },
   "source": [
    "# Setup"
   ]
  },
  {
   "cell_type": "code",
   "execution_count": null,
   "metadata": {
    "colab": {
     "base_uri": "https://localhost:8080/"
    },
    "id": "z9tUt46KGuyI",
    "outputId": "84e2d8ac-b855-436e-e505-6364e920ea90"
   },
   "outputs": [
    {
     "name": "stdout",
     "output_type": "stream",
     "text": [
      "Collecting lyricsgenius\n",
      "  Downloading lyricsgenius-3.0.1-py3-none-any.whl (59 kB)\n",
      "\u001b[?25l\r",
      "\u001b[K     |█████▌                          | 10 kB 18.5 MB/s eta 0:00:01\r",
      "\u001b[K     |███████████                     | 20 kB 8.6 MB/s eta 0:00:01\r",
      "\u001b[K     |████████████████▌               | 30 kB 5.4 MB/s eta 0:00:01\r",
      "\u001b[K     |██████████████████████          | 40 kB 5.1 MB/s eta 0:00:01\r",
      "\u001b[K     |███████████████████████████▋    | 51 kB 4.9 MB/s eta 0:00:01\r",
      "\u001b[K     |████████████████████████████████| 59 kB 2.1 MB/s \n",
      "\u001b[?25hRequirement already satisfied: beautifulsoup4>=4.6.0 in /usr/local/lib/python3.7/dist-packages (from lyricsgenius) (4.6.3)\n",
      "Requirement already satisfied: requests>=2.20.0 in /usr/local/lib/python3.7/dist-packages (from lyricsgenius) (2.23.0)\n",
      "Requirement already satisfied: idna<3,>=2.5 in /usr/local/lib/python3.7/dist-packages (from requests>=2.20.0->lyricsgenius) (2.10)\n",
      "Requirement already satisfied: urllib3!=1.25.0,!=1.25.1,<1.26,>=1.21.1 in /usr/local/lib/python3.7/dist-packages (from requests>=2.20.0->lyricsgenius) (1.24.3)\n",
      "Requirement already satisfied: certifi>=2017.4.17 in /usr/local/lib/python3.7/dist-packages (from requests>=2.20.0->lyricsgenius) (2021.10.8)\n",
      "Requirement already satisfied: chardet<4,>=3.0.2 in /usr/local/lib/python3.7/dist-packages (from requests>=2.20.0->lyricsgenius) (3.0.4)\n",
      "Installing collected packages: lyricsgenius\n",
      "Successfully installed lyricsgenius-3.0.1\n"
     ]
    }
   ],
   "source": [
    "# Setup environment\n",
    "!pip install lyricsgenius"
   ]
  },
  {
   "cell_type": "code",
   "execution_count": null,
   "metadata": {
    "id": "Q751q24OknnK"
   },
   "outputs": [],
   "source": [
    "import lyricsgenius\n",
    "import requests\n",
    "import json\n",
    "import re\n",
    "import pandas as pd\n",
    "from sklearn.model_selection import train_test_split"
   ]
  },
  {
   "cell_type": "code",
   "execution_count": null,
   "metadata": {},
   "outputs": [],
   "source": [
    "api_key = ''"
   ]
  },
  {
   "cell_type": "code",
   "execution_count": null,
   "metadata": {
    "id": "ENY1B0igG1se"
   },
   "outputs": [],
   "source": [
    "genius = lyricsgenius.Genius(api_key)\n",
    "genius.excluded_terms = [\"(Remix)\", \"(Live)\"]"
   ]
  },
  {
   "cell_type": "code",
   "execution_count": null,
   "metadata": {},
   "outputs": [],
   "source": [
    "artist_names = ('Future', 'Freddie Gibbs', 'Kendrick Lamar')"
   ]
  },
  {
   "cell_type": "code",
   "execution_count": null,
   "metadata": {},
   "outputs": [],
   "source": [
    "def load_artists(file_map):\n",
    "    artist_dict = dict()\n",
    "    for artist_name, filename in file_map.items():\n",
    "        with open(filename, 'r') as f:\n",
    "            artist_dict[artist_name] = json.load(f)"
   ]
  },
  {
   "cell_type": "markdown",
   "metadata": {
    "id": "Wl0sSLITzMVZ"
   },
   "source": [
    "# Collection"
   ]
  },
  {
   "cell_type": "code",
   "execution_count": null,
   "metadata": {
    "id": "PGlwElRZY36D"
   },
   "outputs": [],
   "source": [
    "for artist_name in artist_names:\n",
    "    # Get artist object with all related song objects\n",
    "    artist = genius.search_artist(artist_name)\n",
    "\n",
    "    # Save the lyrics\n",
    "    artist.save_lyrics()"
   ]
  },
  {
   "cell_type": "markdown",
   "metadata": {},
   "source": [
    "# Cleaning"
   ]
  },
  {
   "cell_type": "code",
   "execution_count": null,
   "metadata": {},
   "outputs": [],
   "source": [
    "artist_name_to_file_map = {\n",
    "    artist_name: f'Lyrics_{artist_name.replace(' ', '')}.json'\n",
    "    for artist_name in artist_names\n",
    "}"
   ]
  },
  {
   "cell_type": "code",
   "execution_count": 2,
   "metadata": {
    "id": "OmDim_kXe6OM"
   },
   "outputs": [],
   "source": [
    "artist_dict = load_artists(artist_name_to_file_map)"
   ]
  },
  {
   "cell_type": "markdown",
   "metadata": {},
   "source": [
    "## Setup"
   ]
  },
  {
   "cell_type": "code",
   "execution_count": 90,
   "metadata": {},
   "outputs": [],
   "source": [
    "def clean_lyrics(song):\n",
    "    artist = song['artist']\n",
    "    title = song['title']\n",
    "    lyrics = song['lyrics']\n",
    "    artist_verse = False\n",
    "    \n",
    "    if re.findall('\\[.*\\]', lyrics):\n",
    "        if not song['featured_artists']:\n",
    "            artist_verse = True\n",
    "\n",
    "        lyrics = '\\n'.join([\n",
    "            re.sub('[0-9]*Embed', '', chunk).replace(f'{title} Lyrics', '')\n",
    "            for tag, chunk in zip(\n",
    "                ['', *re.findall('\\[.*\\]', lyrics)],\n",
    "                re.split('\\[.*\\]', lyrics)\n",
    "            )\n",
    "            if artist in tag or (artist_verse and tag)\n",
    "        ])\n",
    "        lines = lyrics.split('\\n')\n",
    "    else:\n",
    "        lines = re.sub('[0-9]*Embed', '', lyrics).replace(f'{title} Lyrics', '').split('\\n')\n",
    "    \n",
    "    lines = [line for line in lines if line]\n",
    "    df = pd.DataFrame(lines, columns=['lyric'])\n",
    "    if not df.empty:\n",
    "        df.loc[:, 'artist'] = artist\n",
    "        df.loc[:, 'song'] = title\n",
    "    \n",
    "    return df"
   ]
  },
  {
   "cell_type": "markdown",
   "metadata": {},
   "source": [
    "## Transforming to DataFrame"
   ]
  },
  {
   "cell_type": "code",
   "execution_count": 91,
   "metadata": {},
   "outputs": [],
   "source": [
    "lyric_df = pd.DataFrame(columns=['artist', 'song', 'lyric'])\n",
    "for artist in artist_dict.values():\n",
    "    for song in artist['songs']:\n",
    "        lyric_df = pd.concat([lyric_df, clean_lyrics(song)]).reset_index(drop=True)"
   ]
  },
  {
   "cell_type": "markdown",
   "metadata": {},
   "source": [
    "## Split train and test data"
   ]
  },
  {
   "cell_type": "code",
   "execution_count": null,
   "metadata": {},
   "outputs": [],
   "source": [
    "train_df = pd.DataFrame()\n",
    "test_df = pd.DataFrame()"
   ]
  },
  {
   "cell_type": "code",
   "execution_count": null,
   "metadata": {},
   "outputs": [],
   "source": [
    "for artist_name in artist_dict.keys():\n",
    "    artist_train, artist_test = train_test_split(lyric_df[lyric_df.artist == artist_name], test_size=0.2)\n",
    "    train_df = pd.concat([train_df, artist_train]).reset_index(drop=True)\n",
    "    test_df = pd.concat([test_df, artist_test]).reset_index(drop=True)"
   ]
  },
  {
   "cell_type": "code",
   "execution_count": null,
   "metadata": {},
   "outputs": [],
   "source": [
    "train_df.to_csv('train.csv')\n",
    "test_df.to_csv('test.csv')"
   ]
  }
 ],
 "metadata": {
  "colab": {
   "collapsed_sections": [],
   "name": "rapgan kendrick data collection",
   "provenance": []
  },
  "kernelspec": {
   "display_name": "Python 3 (ipykernel)",
   "language": "python",
   "name": "python3"
  },
  "language_info": {
   "codemirror_mode": {
    "name": "ipython",
    "version": 3
   },
   "file_extension": ".py",
   "mimetype": "text/x-python",
   "name": "python",
   "nbconvert_exporter": "python",
   "pygments_lexer": "ipython3",
   "version": "3.9.10"
  }
 },
 "nbformat": 4,
 "nbformat_minor": 1
}
